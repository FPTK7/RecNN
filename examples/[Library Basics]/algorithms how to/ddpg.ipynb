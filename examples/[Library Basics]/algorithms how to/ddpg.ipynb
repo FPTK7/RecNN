{
 "cells": [
  {
   "cell_type": "markdown",
   "metadata": {},
   "source": [
    "# ddpg"
   ]
  },
  {
   "cell_type": "code",
   "execution_count": 4,
   "metadata": {},
   "outputs": [
    {
     "name": "stderr",
     "output_type": "stream",
     "text": [
      "/home/dev/.local/lib/python3.7/site-packages/tqdm/std.py:656: FutureWarning: The Panel class is removed from pandas. Accessing it from the top-level namespace will also be removed in the next version\n",
      "  from pandas import Panel\n"
     ]
    }
   ],
   "source": [
    "# == recnn ==\n",
    "import sys\n",
    "sys.path.append(\"../../../\")\n",
    "import recnn\n",
    "\n",
    "import torch\n",
    "from torch.utils.tensorboard import SummaryWriter\n",
    "import torch.nn as nn\n",
    "from tqdm.auto import tqdm\n",
    "\n",
    "tqdm.pandas()\n",
    "\n",
    "from jupyterthemes import jtplot\n",
    "jtplot.style(theme='grade3')"
   ]
  },
  {
   "cell_type": "code",
   "execution_count": 2,
   "metadata": {},
   "outputs": [
    {
     "data": {
      "application/vnd.jupyter.widget-view+json": {
       "model_id": "fba7d2d4dac749ce9e1b4c09950af38f",
       "version_major": 2,
       "version_minor": 0
      },
      "text/plain": [
       "HBox(children=(FloatProgress(value=0.0, max=20000263.0), HTML(value='')))"
      ]
     },
     "metadata": {},
     "output_type": "display_data"
    },
    {
     "name": "stdout",
     "output_type": "stream",
     "text": [
      "\n"
     ]
    },
    {
     "data": {
      "application/vnd.jupyter.widget-view+json": {
       "model_id": "bc2c5eaeacd744fc899fd6517917f1f3",
       "version_major": 2,
       "version_minor": 0
      },
      "text/plain": [
       "HBox(children=(FloatProgress(value=0.0, max=20000263.0), HTML(value='')))"
      ]
     },
     "metadata": {},
     "output_type": "display_data"
    },
    {
     "name": "stdout",
     "output_type": "stream",
     "text": [
      "\n"
     ]
    },
    {
     "data": {
      "application/vnd.jupyter.widget-view+json": {
       "model_id": "35e8cde3c25545cda1d1edc0a88ee91b",
       "version_major": 2,
       "version_minor": 0
      },
      "text/plain": [
       "HBox(children=(FloatProgress(value=0.0, max=138493.0), HTML(value='')))"
      ]
     },
     "metadata": {},
     "output_type": "display_data"
    },
    {
     "name": "stdout",
     "output_type": "stream",
     "text": [
      "\n"
     ]
    }
   ],
   "source": [
    "frame_size = 10\n",
    "batch_size = 25\n",
    "# embeddgings: https://drive.google.com/open?id=1EQ_zXBR3DKpmJR3jBgLvt-xoOvArGMsL\n",
    "env = recnn.data.env.FrameEnv('../../../data/embeddings/ml20_pca128.pkl',\n",
    "                         '../../../data/ml-20m/ratings.csv', frame_size, batch_size)"
   ]
  },
  {
   "cell_type": "code",
   "execution_count": 5,
   "metadata": {},
   "outputs": [],
   "source": [
    "# test function\n",
    "def run_tests():\n",
    "    batch = next(iter(env.test_dataloader))\n",
    "    loss = ddpg.update(batch, learn=False)\n",
    "    return loss\n",
    "\n",
    "value_net  = recnn.nn.Critic(1290, 128, 256, 54e-2)\n",
    "policy_net = recnn.nn.Actor(1290, 128, 256, 6e-1)\n",
    "\n",
    "cuda = torch.device('cuda')\n",
    "ddpg = recnn.nn.DDPG(policy_net, value_net)\n",
    "ddpg = ddpg.to(cuda)\n",
    "\n",
    "from time import gmtime, strftime\n",
    "td3.writer = SummaryWriter(log_dir='../../../runs/td3_{}/')\n",
    "ddpg.writer = SummaryWriter(log_dir='../../../runs/ddpg_{}'.format(strftime(\"%m-%d_%H:%M\", gmtime())))\n",
    "plotter = recnn.utils.Plotter(ddpg.loss_layout, [['value', 'policy']],)"
   ]
  },
  {
   "cell_type": "code",
   "execution_count": 8,
   "metadata": {},
   "outputs": [
    {
     "name": "stdout",
     "output_type": "stream",
     "text": [
      "\n"
     ]
    },
    {
     "data": {
      "application/vnd.jupyter.widget-view+json": {
       "model_id": "1b57b08453b14b358fd3ce7359a328ca",
       "version_major": 2,
       "version_minor": 0
      },
      "text/plain": [
       "HBox(children=(FloatProgress(value=0.0, max=5263.0), HTML(value='')))"
      ]
     },
     "metadata": {},
     "output_type": "display_data"
    }
   ],
   "source": [
    "from IPython.display import clear_output\n",
    "import matplotlib.pyplot as plt\n",
    "%matplotlib inline\n",
    "\n",
    "plot_every = 50\n",
    "n_epochs = 2\n",
    "\n",
    "def learn():\n",
    "    for epoch in range(n_epochs):\n",
    "        for batch in tqdm(env.train_dataloader):\n",
    "            loss = ddpg.update(batch, learn=True)\n",
    "            plotter.log_losses(loss)\n",
    "            ddpg.step()\n",
    "            if ddpg._step % plot_every == 0:\n",
    "                clear_output(True)\n",
    "                print('step', ddpg._step)\n",
    "                test_loss = run_tests()\n",
    "                plotter.log_losses(test_loss, test=True)\n",
    "                plotter.plot_loss()\n",
    "            if ddpg._step > 5000:\n",
    "                return\n",
    "            \n",
    "learn()"
   ]
  },
  {
   "cell_type": "code",
   "execution_count": 10,
   "metadata": {},
   "outputs": [],
   "source": [
    "torch.save(ddpg.nets['policy_net'].state_dict(), '../../../models/ddpg_policy.model')\n",
    "torch.save(ddpg.nets['value_net'].state_dict(), '../../../models/ddpg_value.model')"
   ]
  },
  {
   "cell_type": "code",
   "execution_count": null,
   "metadata": {},
   "outputs": [],
   "source": []
  }
 ],
 "metadata": {
  "kernelspec": {
   "display_name": "Python 3",
   "language": "python",
   "name": "python3"
  },
  "language_info": {
   "codemirror_mode": {
    "name": "ipython",
    "version": 3
   },
   "file_extension": ".py",
   "mimetype": "text/x-python",
   "name": "python",
   "nbconvert_exporter": "python",
   "pygments_lexer": "ipython3",
   "version": "3.7.3"
  }
 },
 "nbformat": 4,
 "nbformat_minor": 2
}
